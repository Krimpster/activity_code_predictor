{
 "cells": [
  {
   "cell_type": "markdown",
   "metadata": {},
   "source": [
    " # Imports and Installs"
   ]
  },
  {
   "cell_type": "code",
   "execution_count": 1,
   "metadata": {},
   "outputs": [],
   "source": [
    "import sys\n",
    "import os\n",
    "\n",
    "sys.path.append(os.path.abspath(os.path.join(os.getcwd(), \"..\")))\n",
    "\n",
    "root_dir_path = os.getcwd()\n",
    "root_dir_path = os.path.abspath(os.path.split(root_dir_path)[0])"
   ]
  },
  {
   "cell_type": "code",
   "execution_count": 2,
   "metadata": {},
   "outputs": [],
   "source": [
    "from autogluon.common import space\n",
    "from autogluon.tabular import TabularDataset, TabularPredictor\n",
    "import pandas as pd"
   ]
  },
  {
   "cell_type": "markdown",
   "metadata": {},
   "source": [
    "# Model Training"
   ]
  },
  {
   "cell_type": "code",
   "execution_count": null,
   "metadata": {},
   "outputs": [],
   "source": [
    "model_save_path = rf'{root_dir_path}/models/'\n",
    "\n",
    "train_df = pd.read_csv(rf'{root_dir_path}/data/train_val_csv.csv', delimiter= '|', encoding='utf-8', index_col=0)\n",
    "\n",
    "train_data = TabularDataset(train_df)\n",
    "label = \"KPB AKTIVITETSKOD\"\n",
    "\n",
    "train_data.head(5)"
   ]
  },
  {
   "cell_type": "markdown",
   "metadata": {},
   "source": [
    "# Hyperparam Selection"
   ]
  },
  {
   "cell_type": "code",
   "execution_count": 15,
   "metadata": {},
   "outputs": [],
   "source": [
    "\"\"\"hp_tune = True\n",
    "\n",
    "nn_options = {\n",
    "    'num_epochs': 10,\n",
    "    'learning_rate': space.Real(1e-4, 1e-2, default=5e-4, log=True),\n",
    "    'layers': space.Categorical([100],[1000],[200,100],[300,200,100]),\n",
    "    'dropout_prob': space.Real(0.0, 0.5, default=0.1),\n",
    "}\n",
    "\n",
    "gbm_options = {\n",
    "    'num_boost_round': 100,\n",
    "    'num_leaves': space.Int(lower=26, upper=66, default=36),\n",
    "}\n",
    "\n",
    "hyperparameters = {\n",
    "                   'GBM': gbm_options,\n",
    "                   'NN_TORCH': nn_options,\n",
    "                  }\n",
    "\n",
    "time_limits = 2*60\n",
    "num_trials = 5 \n",
    "search_strategy = 'auto'\n",
    "\n",
    "hyperparameter_tune_kwargs = {  # HPO is not performed unless hyperparameter_tune_kwargs is specified\n",
    "    'num_trials': num_trials,\n",
    "    'scheduler' : 'local',\n",
    "    'searcher': search_strategy,\n",
    "} \"\"\""
   ]
  },
  {
   "cell_type": "code",
   "execution_count": null,
   "metadata": {},
   "outputs": [],
   "source": [
    "\"\"\"column_predictor = TabularPredictor(label=label, path=model_save_path).fit(train_data,\n",
    "    time_limit=time_limits,\n",
    "    hyperparameters=hyperparameters,\n",
    "    hyperparameter_tune_kwargs=hyperparameter_tune_kwargs,)\"\"\""
   ]
  },
  {
   "cell_type": "code",
   "execution_count": null,
   "metadata": {},
   "outputs": [],
   "source": [
    "column_predictor = TabularPredictor(label=label, path=model_save_path).fit(train_data, presets='high_quality')"
   ]
  },
  {
   "cell_type": "markdown",
   "metadata": {},
   "source": [
    "# Model Testing and Selection"
   ]
  },
  {
   "cell_type": "code",
   "execution_count": 20,
   "metadata": {},
   "outputs": [],
   "source": [
    "val_data = TabularDataset(train_df)\n",
    "val_data = val_data.sample(n=30000, random_state = 42)\n",
    "val_data.drop(columns=['KPB AKTIVITETSKOD'])\n",
    "\n",
    "val_predictor = TabularPredictor.load(model_save_path)\n",
    "\n",
    "y_pred = val_predictor.predict(val_data)"
   ]
  },
  {
   "cell_type": "code",
   "execution_count": null,
   "metadata": {},
   "outputs": [],
   "source": [
    "val_predictor.leaderboard(val_data)"
   ]
  },
  {
   "cell_type": "code",
   "execution_count": 1,
   "metadata": {},
   "outputs": [
    {
     "ename": "NameError",
     "evalue": "name 'val_predictor' is not defined",
     "output_type": "error",
     "traceback": [
      "\u001b[1;31m---------------------------------------------------------------------------\u001b[0m",
      "\u001b[1;31mNameError\u001b[0m                                 Traceback (most recent call last)",
      "Cell \u001b[1;32mIn[1], line 1\u001b[0m\n\u001b[1;32m----> 1\u001b[0m \u001b[43mval_predictor\u001b[49m\u001b[38;5;241m.\u001b[39mclone_for_deployment()\n",
      "\u001b[1;31mNameError\u001b[0m: name 'val_predictor' is not defined"
     ]
    }
   ],
   "source": [
    "cloned_model_save_path = rf'{root_dir_path}/models/'\n",
    "val_predictor.clone_for_deployment()"
   ]
  }
 ],
 "metadata": {
  "kernelspec": {
   "display_name": "Wizdo_2",
   "language": "python",
   "name": "python3"
  },
  "language_info": {
   "codemirror_mode": {
    "name": "ipython",
    "version": 3
   },
   "file_extension": ".py",
   "mimetype": "text/x-python",
   "name": "python",
   "nbconvert_exporter": "python",
   "pygments_lexer": "ipython3",
   "version": "3.9.20"
  }
 },
 "nbformat": 4,
 "nbformat_minor": 4
}
