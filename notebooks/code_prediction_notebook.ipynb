{
 "cells": [
  {
   "cell_type": "markdown",
   "metadata": {},
   "source": [
    "# Imports"
   ]
  },
  {
   "cell_type": "code",
   "execution_count": 1,
   "metadata": {},
   "outputs": [],
   "source": [
    "import os\n",
    "import sys\n",
    "\n",
    "sys_path = os.path.abspath(os.path.join(os.getcwd(), \"..\"))\n",
    "sys.path.append(sys_path)"
   ]
  },
  {
   "cell_type": "code",
   "execution_count": 2,
   "metadata": {},
   "outputs": [],
   "source": [
    "from utils.code_pred_utils import get_top_n_predictions, accuracy_calculator\n",
    "from autogluon.tabular import TabularDataset, TabularPredictor\n",
    "import pandas as pd\n",
    "from tqdm import tqdm\n",
    "\n",
    "root_dir_path = os.getcwd()\n",
    "root_dir_path = os.path.abspath(os.path.split(root_dir_path)[0])"
   ]
  },
  {
   "cell_type": "code",
   "execution_count": 3,
   "metadata": {},
   "outputs": [],
   "source": [
    "model_save_path = rf'{root_dir_path}/models/'\n",
    "\n",
    "test_df = pd.read_csv(rf'{root_dir_path}/data/test_csv.csv', delimiter= '|', encoding='utf-8', index_col=0)\n",
    "\n",
    "test_data = TabularDataset(test_df)\n",
    "label = \"kpb_activity_code\""
   ]
  },
  {
   "cell_type": "markdown",
   "metadata": {},
   "source": [
    "# Activity-Code Prediction"
   ]
  },
  {
   "cell_type": "code",
   "execution_count": 4,
   "metadata": {},
   "outputs": [
    {
     "data": {
      "text/plain": [
       "'WeightedEnsemble_L3_FULL'"
      ]
     },
     "execution_count": 4,
     "metadata": {},
     "output_type": "execute_result"
    }
   ],
   "source": [
    "predictor = TabularPredictor.load(model_save_path)\n",
    "\n",
    "predictor.model_best"
   ]
  },
  {
   "cell_type": "code",
   "execution_count": 6,
   "metadata": {},
   "outputs": [],
   "source": [
    "\n",
    "single_predicted_code = predictor.predict(data = test_data, model = predictor.model_best)\n",
    "\n",
    "test_df[label] = single_predicted_code"
   ]
  },
  {
   "cell_type": "code",
   "execution_count": 7,
   "metadata": {},
   "outputs": [],
   "source": [
    "# This cell is for lifting out a user defined amount of predictions to put into the result DataFrame, it is incredibly inefficent and is not a good solution.\n",
    "\n",
    "#predicted_codes_df = pd.DataFrame\n",
    "\n",
    "#for i in tqdm(range(len(test_data))):\n",
    "\n",
    "    #predicted_codes = predictor.predict_proba(data = test_data.iloc[[i]], model = predictor.model_best)\n",
    "    #predicted_codes_df = get_top_n_predictions(predicted_codes, 3)"
   ]
  },
  {
   "cell_type": "code",
   "execution_count": 8,
   "metadata": {},
   "outputs": [],
   "source": [
    "#predicted_codes = predictor.predict_proba(data = test_data, model = predictor.model_best)\n",
    "\n",
    "#predicted_codes.apply(func=lambda row: row.nlargest(3), axis=1)"
   ]
  },
  {
   "cell_type": "code",
   "execution_count": 9,
   "metadata": {},
   "outputs": [],
   "source": [
    "#test_df[label] = predicted_codes"
   ]
  },
  {
   "cell_type": "code",
   "execution_count": 10,
   "metadata": {},
   "outputs": [],
   "source": [
    "test_df.to_csv(rf'{root_dir_path}/predicted_data/predicted_data_csv_2.csv', sep= '|')"
   ]
  },
  {
   "cell_type": "markdown",
   "metadata": {},
   "source": [
    "# Some extra testing"
   ]
  },
  {
   "cell_type": "code",
   "execution_count": 11,
   "metadata": {},
   "outputs": [],
   "source": [
    "train_df = pd.read_csv(rf'{root_dir_path}/data/train_val_csv.csv', delimiter= '|', encoding='utf-8', index_col=0)\n",
    "train_df.drop(columns=[\"KPB AKTIVITETSKOD\"])\n",
    "\n",
    "train_data = TabularDataset(train_df)"
   ]
  },
  {
   "cell_type": "code",
   "execution_count": 12,
   "metadata": {},
   "outputs": [],
   "source": [
    "\n",
    "single_predicted_code = predictor.predict(data = train_data, model = predictor.model_best)\n",
    "\n",
    "train_df[label] = single_predicted_code"
   ]
  },
  {
   "cell_type": "code",
   "execution_count": 13,
   "metadata": {},
   "outputs": [],
   "source": [
    "train_df.to_csv(rf'{root_dir_path}/predicted_data/predicted_train_data_csv_2.csv', sep= '|')"
   ]
  },
  {
   "cell_type": "code",
   "execution_count": 14,
   "metadata": {},
   "outputs": [
    {
     "data": {
      "text/plain": [
       "{'accuracy': 0.9849791919542223,\n",
       " 'balanced_accuracy': 0.8746936356547245,\n",
       " 'mcc': 0.9848439509203382}"
      ]
     },
     "execution_count": 14,
     "metadata": {},
     "output_type": "execute_result"
    }
   ],
   "source": [
    "predictor.evaluate(train_data)"
   ]
  },
  {
   "cell_type": "code",
   "execution_count": 15,
   "metadata": {},
   "outputs": [
    {
     "name": "stderr",
     "output_type": "stream",
     "text": [
      "46136it [00:03, 11745.20it/s]"
     ]
    },
    {
     "name": "stdout",
     "output_type": "stream",
     "text": [
      "Total true predictions: 45443\n",
      "Total false predictions: 693\n",
      "Total predictions: 46136\n",
      "Model factual accuracy = 0.9849791919542223\n"
     ]
    },
    {
     "name": "stderr",
     "output_type": "stream",
     "text": [
      "\n"
     ]
    }
   ],
   "source": [
    "eval_data = pd.read_csv(rf'{root_dir_path}/predicted_data/predicted_train_data_csv.csv', delimiter= '|', encoding='utf-8', index_col=0)\n",
    "\n",
    "total_truth, total_false, accuracy_score = accuracy_calculator(eval_data)\n",
    "\n",
    "print(f\"Total true predictions: {total_truth}\")\n",
    "print(f\"Total false predictions: {total_false}\")\n",
    "print(f\"Total predictions: {total_false + total_truth}\")\n",
    "print(f\"Model factual accuracy = {accuracy_score}\")"
   ]
  },
  {
   "cell_type": "code",
   "execution_count": null,
   "metadata": {},
   "outputs": [],
   "source": []
  }
 ],
 "metadata": {
  "kernelspec": {
   "display_name": "Wizdo_2",
   "language": "python",
   "name": "python3"
  },
  "language_info": {
   "codemirror_mode": {
    "name": "ipython",
    "version": 3
   },
   "file_extension": ".py",
   "mimetype": "text/x-python",
   "name": "python",
   "nbconvert_exporter": "python",
   "pygments_lexer": "ipython3",
   "version": "3.9.20"
  }
 },
 "nbformat": 4,
 "nbformat_minor": 2
}
