{
 "cells": [
  {
   "cell_type": "markdown",
   "metadata": {},
   "source": [
    "# Imports"
   ]
  },
  {
   "cell_type": "code",
   "execution_count": 7,
   "metadata": {},
   "outputs": [],
   "source": [
    "import pandas as pd\n",
    "import os\n",
    "\n",
    "root_dir_path = os.getcwd()\n",
    "root_dir_path = os.path.abspath(os.path.split(root_dir_path)[0])"
   ]
  },
  {
   "cell_type": "markdown",
   "metadata": {},
   "source": [
    "# Data modification"
   ]
  },
  {
   "cell_type": "code",
   "execution_count": 21,
   "metadata": {},
   "outputs": [
    {
     "data": {
      "text/html": [
       "<div>\n",
       "<style scoped>\n",
       "    .dataframe tbody tr th:only-of-type {\n",
       "        vertical-align: middle;\n",
       "    }\n",
       "\n",
       "    .dataframe tbody tr th {\n",
       "        vertical-align: top;\n",
       "    }\n",
       "\n",
       "    .dataframe thead th {\n",
       "        text-align: right;\n",
       "    }\n",
       "</style>\n",
       "<table border=\"1\" class=\"dataframe\">\n",
       "  <thead>\n",
       "    <tr style=\"text-align: right;\">\n",
       "      <th></th>\n",
       "      <th>clean_code</th>\n",
       "      <th>account_code</th>\n",
       "      <th>counterpart_code</th>\n",
       "      <th>business_code</th>\n",
       "      <th>activity_code</th>\n",
       "      <th>supplier</th>\n",
       "      <th>KPB AKTIVITETSKOD</th>\n",
       "    </tr>\n",
       "  </thead>\n",
       "  <tbody>\n",
       "    <tr>\n",
       "      <th>0</th>\n",
       "      <td>680000</td>\n",
       "      <td>30102</td>\n",
       "      <td>EP0000</td>\n",
       "      <td>1000</td>\n",
       "      <td>NaN</td>\n",
       "      <td>NaN</td>\n",
       "      <td>A_ÖVR_504_0</td>\n",
       "    </tr>\n",
       "  </tbody>\n",
       "</table>\n",
       "</div>"
      ],
      "text/plain": [
       "   clean_code  account_code counterpart_code  business_code  activity_code  \\\n",
       "0      680000         30102           EP0000           1000            NaN   \n",
       "\n",
       "  supplier KPB AKTIVITETSKOD  \n",
       "0      NaN       A_ÖVR_504_0  "
      ]
     },
     "execution_count": 21,
     "metadata": {},
     "output_type": "execute_result"
    }
   ],
   "source": [
    "train_df = pd.read_csv(rf'{root_dir_path}/raw_data/train_val_csv.csv', delimiter= '|', encoding='utf-8')\n",
    "train_df = train_df.rename(columns={'REN KOD':'clean_code', 'VERKSAMHETSKOD':'business_code', 'KONTO KOD':'account_code', 'MOTPART KOD':'counterpart_code', 'AKTIVITET KOD':'activity_code', 'Leverantör':'supplier'})\n",
    "train_df = train_df.drop(columns=['RN1', 'REN TEXT', 'Kontosymbol', 'KONTO TEXT', r'EXTERN/INTERN MOTPART', 'MOTPART TEXT', 'VERKSAMHETS TEXT', 'AKTIVITET TEXT', 'Utall'])\n",
    "\n",
    "train_df.head(1)"
   ]
  },
  {
   "cell_type": "code",
   "execution_count": 22,
   "metadata": {},
   "outputs": [
    {
     "data": {
      "text/html": [
       "<div>\n",
       "<style scoped>\n",
       "    .dataframe tbody tr th:only-of-type {\n",
       "        vertical-align: middle;\n",
       "    }\n",
       "\n",
       "    .dataframe tbody tr th {\n",
       "        vertical-align: top;\n",
       "    }\n",
       "\n",
       "    .dataframe thead th {\n",
       "        text-align: right;\n",
       "    }\n",
       "</style>\n",
       "<table border=\"1\" class=\"dataframe\">\n",
       "  <thead>\n",
       "    <tr style=\"text-align: right;\">\n",
       "      <th></th>\n",
       "      <th>clean_code</th>\n",
       "      <th>account_code</th>\n",
       "      <th>counterpart_code</th>\n",
       "      <th>business_code</th>\n",
       "      <th>activity_code</th>\n",
       "      <th>supplier</th>\n",
       "    </tr>\n",
       "  </thead>\n",
       "  <tbody>\n",
       "    <tr>\n",
       "      <th>0</th>\n",
       "      <td>100251</td>\n",
       "      <td>30102</td>\n",
       "      <td>EP0000</td>\n",
       "      <td>5290</td>\n",
       "      <td>NaN</td>\n",
       "      <td>NaN</td>\n",
       "    </tr>\n",
       "  </tbody>\n",
       "</table>\n",
       "</div>"
      ],
      "text/plain": [
       "   clean_code  account_code counterpart_code  business_code  activity_code  \\\n",
       "0      100251         30102           EP0000           5290            NaN   \n",
       "\n",
       "  supplier  \n",
       "0      NaN  "
      ]
     },
     "execution_count": 22,
     "metadata": {},
     "output_type": "execute_result"
    }
   ],
   "source": [
    "test_df = pd.read_csv(rf'{root_dir_path}/raw_data/test_csv.csv', delimiter= '|', encoding='utf-8')\n",
    "test_df = test_df.drop(columns=['RN1', 'Ren text', 'Kto text', r'Intern/extern motp', 'Motp text', 'Vht text', 'Akt text', r'Intern/Extern', 'Utfall'])\n",
    "test_df = test_df.rename(columns={'REN kod':'clean_code', 'Vht':'business_code', 'Kto':'account_code', 'Motp':'counterpart_code', 'Akt':'activity_code', 'Leverantör':'supplier'})\n",
    "\n",
    "test_df.head(1)"
   ]
  },
  {
   "cell_type": "markdown",
   "metadata": {},
   "source": [
    "# Data saving"
   ]
  },
  {
   "cell_type": "code",
   "execution_count": 23,
   "metadata": {},
   "outputs": [],
   "source": [
    "train_df.to_csv(rf'{root_dir_path}/data/train_val_csv.csv', sep= '|')\n",
    "test_df.to_csv(rf'{root_dir_path}/data/test_csv.csv', sep= '|')"
   ]
  }
 ],
 "metadata": {
  "kernelspec": {
   "display_name": "Wizdo_2",
   "language": "python",
   "name": "python3"
  },
  "language_info": {
   "codemirror_mode": {
    "name": "ipython",
    "version": 3
   },
   "file_extension": ".py",
   "mimetype": "text/x-python",
   "name": "python",
   "nbconvert_exporter": "python",
   "pygments_lexer": "ipython3",
   "version": "3.9.20"
  }
 },
 "nbformat": 4,
 "nbformat_minor": 2
}
